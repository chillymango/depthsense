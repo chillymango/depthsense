{
 "cells": [
  {
   "metadata": {},
   "cell_type": "markdown",
   "source": "Script used to generate pseudo labels for unlabelled data.",
   "id": "53e63e6f9a2ef3b2"
  },
  {
   "cell_type": "code",
   "id": "initial_id",
   "metadata": {
    "collapsed": true
   },
   "source": [
    "%load_ext autoreload\n",
    "%autoreload 2"
   ],
   "outputs": [],
   "execution_count": null
  },
  {
   "metadata": {},
   "cell_type": "code",
   "source": [
    "from pathlib import Path\n",
    "\n",
    "import numpy as np\n",
    "import torch\n",
    "from torch.utils.data import Dataset\n",
    "\n",
    "from dpt import DepthSense"
   ],
   "id": "f9d1bd4437be1ed2",
   "outputs": [],
   "execution_count": null
  },
  {
   "metadata": {},
   "cell_type": "code",
   "source": "torch.random.manual_seed(7643)",
   "id": "baeeb9d6ed278d99",
   "outputs": [],
   "execution_count": null
  },
  {
   "metadata": {},
   "cell_type": "code",
   "source": [
    "# Parameters and hyperparameters used for training.\n",
    "description: str = \"DepthSense for Metric Depth and Normal Estimation\"\n",
    "model_path: str = \"models/teacher_{}.pth\"\n",
    "\n",
    "batch_size: int = 1\n",
    "dataset_name: Dataset = \"hypersim\"\n",
    "device: str = \"cpu\"\n",
    "encoder: str = \"vits\"\n",
    "eps: float = 1e-8\n",
    "features: int = 128\n",
    "\n",
    "dataset_path = Path(f\"datasets/pseudo/{dataset_name}\")\n",
    "\n",
    "# Model initialization.\n",
    "model_name: str = model_path.replace(\"{}\", dataset_name)\n",
    "model: DepthSense = DepthSense(encoder, features)\n",
    "model.load_state_dict(torch.load(model_name, map_location=device, weights_only=True))"
   ],
   "id": "f95f656009efdd84",
   "outputs": [],
   "execution_count": null
  },
  {
   "metadata": {
    "jupyter": {
     "is_executing": true
    }
   },
   "cell_type": "code",
   "source": [
    "# Pseudo-labeling.\n",
    "model.eval()\n",
    "\n",
    "running_loss: float = 0.0\n",
    "for i, file in enumerate(dataset_path.iterdir()):\n",
    "    if file.is_dir():\n",
    "        # Move to appropriate device.\n",
    "        x = (\n",
    "            torch.from_numpy(np.load(file / \"frame.npy\"))\n",
    "            .to(device)\n",
    "            .unsqueeze(0)\n",
    "            .permute(0, 3, 1, 2)\n",
    "            .float()\n",
    "        )\n",
    "        print(x.shape)\n",
    "        # Forward pass.\n",
    "        z, n = model.infer_image(x)\n",
    "        np.save(file / \"depth.npy\", np.array(z))\n",
    "        np.save(file / \"normal.npy\", np.array(n))"
   ],
   "id": "ab5c90cb83454e94",
   "outputs": [],
   "execution_count": null
  },
  {
   "metadata": {},
   "cell_type": "code",
   "source": "",
   "id": "2d88541d6c727e06",
   "outputs": [],
   "execution_count": null
  }
 ],
 "metadata": {
  "kernelspec": {
   "display_name": "Python 3",
   "language": "python",
   "name": "python3"
  },
  "language_info": {
   "codemirror_mode": {
    "name": "ipython",
    "version": 2
   },
   "file_extension": ".py",
   "mimetype": "text/x-python",
   "name": "python",
   "nbconvert_exporter": "python",
   "pygments_lexer": "ipython2",
   "version": "2.7.6"
  }
 },
 "nbformat": 4,
 "nbformat_minor": 5
}
